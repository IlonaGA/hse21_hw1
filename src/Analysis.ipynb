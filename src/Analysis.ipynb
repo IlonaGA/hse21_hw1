{
 "cells": [
  {
   "cell_type": "code",
   "execution_count": 1,
   "id": "58385b13",
   "metadata": {},
   "outputs": [],
   "source": [
    "import numpy as np"
   ]
  },
  {
   "cell_type": "code",
   "execution_count": 108,
   "id": "feeaf8c4",
   "metadata": {},
   "outputs": [],
   "source": [
    "def analysis_c(contig):\n",
    "    counter = 0\n",
    "    length = 0\n",
    "    length_array = []\n",
    "    for line in contig:\n",
    "        if line[0] == '>':\n",
    "            counter += 1\n",
    "            length += int(line.split('_')[1][3:])\n",
    "            length_array.append(int(line.split('_')[1][3:]))\n",
    "\n",
    "    length_array = np.asarray(length_array)\n",
    "    length_array = np.sort(length_array)[::-1]\n",
    "    value = np.sum(length_array) / 2\n",
    "    \n",
    "    N50 = length_array[np.cumsum(length_array) >= value][0]\n",
    "    \n",
    "    print('Общее количество контигов: ', counter)\n",
    "    print('Суммарная длина контигов: ', length)\n",
    "    print('Длина самого длинного контига: ', max(length_array))\n",
    "    print('N50: ', N50)\n"
   ]
  },
  {
   "cell_type": "code",
   "execution_count": 109,
   "id": "1fb68d5c",
   "metadata": {},
   "outputs": [
    {
     "name": "stdout",
     "output_type": "stream",
     "text": [
      "Общее количество контигов:  620\n",
      "Суммарная длина контигов:  3926318\n",
      "Длина самого длинного контига:  179307\n",
      "N50:  55039\n"
     ]
    }
   ],
   "source": [
    "contig_file = open('Poil_contig.fa', 'r')\n",
    "contig = contig_file.readlines()\n",
    "analysis_c(contig)\n"
   ]
  },
  {
   "cell_type": "code",
   "execution_count": 110,
   "id": "b9243d7f",
   "metadata": {},
   "outputs": [],
   "source": [
    "def analysis_s(scaffold):\n",
    "    counter = 0\n",
    "    length = 0\n",
    "    length_array = []\n",
    "    for line in scaffold:\n",
    "        if line[0] == '>':\n",
    "            counter += 1\n",
    "            length += int(line.split('_')[1][3:])\n",
    "            length_array.append(int(line.split('_')[1][3:]))\n",
    "\n",
    "    length_array = np.asarray(length_array)\n",
    "    length_array = np.sort(length_array)[::-1]\n",
    "    value = np.sum(length_array) / 2\n",
    "    \n",
    "    N50 = length_array[np.cumsum(length_array) >= value][0]\n",
    "    \n",
    "    print('Общее количество скаффолдов: ', counter)\n",
    "    print('Суммарная длина скаффолдов: ', length)\n",
    "    print('Длина самого длинного скаффолда: ', max(length_array))\n",
    "    print('N50: ', N50)"
   ]
  },
  {
   "cell_type": "code",
   "execution_count": 111,
   "id": "bd20b8cf",
   "metadata": {},
   "outputs": [
    {
     "name": "stdout",
     "output_type": "stream",
     "text": [
      "Общее количество скаффолдов:  72\n",
      "Суммарная длина скаффолдов:  3875885\n",
      "Длина самого длинного скаффолда:  3831756\n",
      "N50:  3831756\n"
     ]
    }
   ],
   "source": [
    "scaffold_file = open('Poil_scaffold.fa', 'r')\n",
    "scaffold = scaffold_file.readlines()\n",
    "analysis_s(scaffold)"
   ]
  },
  {
   "cell_type": "code",
   "execution_count": 79,
   "id": "dd697746",
   "metadata": {},
   "outputs": [
    {
     "name": "stdout",
     "output_type": "stream",
     "text": [
      ">scaffold1_len3831756_cov232\n",
      "\n"
     ]
    }
   ],
   "source": [
    "for line in scaffold:\n",
    "    if int(line.split('_')[1][3:]) == 3831756:\n",
    "        print(line)\n",
    "        break"
   ]
  },
  {
   "cell_type": "code",
   "execution_count": 106,
   "id": "d7376286",
   "metadata": {},
   "outputs": [
    {
     "name": "stdout",
     "output_type": "stream",
     "text": [
      "Количество гэпов:  62\n",
      "Общая длина гэпов:  6083\n"
     ]
    }
   ],
   "source": [
    "max_scaffold_file = open('max_scaffold.fa', 'r')\n",
    "max_scaffold = max_scaffold_file.readlines()\n",
    "count = 0\n",
    "for i in range (len(max_scaffold[1]) - 1):\n",
    "    if (max_scaffold[1][i+1].upper() == 'N') and (max_scaffold[1][i].upper() != 'N'):\n",
    "        count += 1\n",
    "print('Количество гэпов: ', count)\n",
    "print('Общая длина гэпов: ', max_scaffold[1].count('N'))\n",
    "    "
   ]
  },
  {
   "cell_type": "code",
   "execution_count": 105,
   "id": "093fe5f1",
   "metadata": {},
   "outputs": [
    {
     "name": "stdout",
     "output_type": "stream",
     "text": [
      "Количество гэпов:  8\n",
      "Общая длина гэпов:  1500\n"
     ]
    }
   ],
   "source": [
    "scaffold_file_lowgap = open('max_scaffold_lowgap.fa', 'r')\n",
    "scaffold_lowgap = scaffold_file_lowgap.readlines()\n",
    "\n",
    "count = 0\n",
    "for i in range (len(scaffold_lowgap[1]) - 1):\n",
    "    if (scaffold_lowgap[1][i+1].upper() == 'N') and (scaffold_lowgap[1][i].upper() != 'N'):\n",
    "        count += 1\n",
    "print('Количество гэпов: ', count)\n",
    "print('Общая длина гэпов: ', scaffold_lowgap[1].count('N'))"
   ]
  }
 ],
 "metadata": {
  "kernelspec": {
   "display_name": "Python 3",
   "language": "python",
   "name": "python3"
  },
  "language_info": {
   "codemirror_mode": {
    "name": "ipython",
    "version": 3
   },
   "file_extension": ".py",
   "mimetype": "text/x-python",
   "name": "python",
   "nbconvert_exporter": "python",
   "pygments_lexer": "ipython3",
   "version": "3.7.10"
  }
 },
 "nbformat": 4,
 "nbformat_minor": 5
}
